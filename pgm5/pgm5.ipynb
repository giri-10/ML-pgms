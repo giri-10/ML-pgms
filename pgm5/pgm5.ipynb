{
 "cells": [
  {
   "cell_type": "code",
   "execution_count": 1,
   "metadata": {},
   "outputs": [],
   "source": [
    "import numpy as np\n",
    "X = np.array(([2,9], [1,5], [3,6]), dtype=float)\n",
    "y = np.array(([92], [86], [89]), dtype=float)\n",
    "X = X/np.amax(X, axis=0)"
   ]
  },
  {
   "cell_type": "code",
   "execution_count": 2,
   "metadata": {},
   "outputs": [],
   "source": [
    "def sigmoid(x):\n",
    "              return 1/(1+np.exp(-x))"
   ]
  },
  {
   "cell_type": "code",
   "execution_count": 3,
   "metadata": {},
   "outputs": [],
   "source": [
    "def derivatives_sigmoid(x):\n",
    "              return x*(1-x)"
   ]
  },
  {
   "cell_type": "code",
   "execution_count": 4,
   "metadata": {},
   "outputs": [
    {
     "name": "stdout",
     "output_type": "stream",
     "text": [
      "Input: \n",
      "[[0.66666667 1.        ]\n",
      " [0.33333333 0.55555556]\n",
      " [1.         0.66666667]]\n",
      "Actual Output: \n",
      "[[92.]\n",
      " [86.]\n",
      " [89.]]\n",
      "Predicted Output: \n",
      " [[0.99999847]\n",
      " [0.99999443]\n",
      " [0.99999834]]\n"
     ]
    }
   ],
   "source": [
    "epoch, lr = 5000, 0.1\n",
    "wh = np.random.uniform(size=(2,3))\n",
    "bh = np.random.uniform(size=(1,3))\n",
    "wout = np.random.uniform(size=(3,1))\n",
    "bout = np.random.uniform(size=(1,1))\n",
    "\n",
    "for i in range(epoch):\n",
    "              hlayer_act = sigmoid(np.dot(X, wh)+bh)\n",
    "              output = sigmoid(np.dot(hlayer_act, wout)+bout)\n",
    "\n",
    "              d_output = (y-output) * derivatives_sigmoid(output)\n",
    "              d_hiddenlayer = d_output.dot(wout.T) * derivatives_sigmoid(hlayer_act)\n",
    "\n",
    "              wout += hlayer_act.T.dot(d_output) * lr\n",
    "              wh += X.T.dot(d_hiddenlayer) * lr\n",
    "\n",
    "print(\"Input: \\n\" + str(X))\n",
    "print(\"Actual Output: \\n\" + str(y))\n",
    "print(\"Predicted Output: \\n\", output)"
   ]
  }
 ],
 "metadata": {
  "kernelspec": {
   "display_name": "Python 3 (ipykernel)",
   "language": "python",
   "name": "python3"
  },
  "language_info": {
   "codemirror_mode": {
    "name": "ipython",
    "version": 3
   },
   "file_extension": ".py",
   "mimetype": "text/x-python",
   "name": "python",
   "nbconvert_exporter": "python",
   "pygments_lexer": "ipython3",
   "version": "3.10.4"
  }
 },
 "nbformat": 4,
 "nbformat_minor": 2
}
