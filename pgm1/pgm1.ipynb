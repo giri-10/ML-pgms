{
 "cells": [
  {
   "cell_type": "code",
   "execution_count": 10,
   "metadata": {},
   "outputs": [],
   "source": [
    "import csv"
   ]
  },
  {
   "cell_type": "code",
   "execution_count": 41,
   "metadata": {},
   "outputs": [],
   "source": [
    "f = open(\"dataset.csv\", \"r\")\n",
    "reader = csv.reader(f)\n",
    "header = next(reader)\n",
    "list1 = list(reader)\n",
    "h = [['0', '0', '0', '0', '0', '0']]\n"
   ]
  },
  {
   "cell_type": "code",
   "execution_count": 44,
   "metadata": {},
   "outputs": [
    {
     "name": "stdout",
     "output_type": "stream",
     "text": [
      "['Sunny', 'Warm', 'Normal', 'Strong', 'Warm', 'Same', 'Yes']\n",
      "['Sunny', 'Warm', 'High', 'Strong', 'Warm', 'Same', 'Yes']\n",
      "['Rainy', 'Cold', 'High', 'Strong', 'Warm', 'Change', 'No']\n",
      "['Sunny', 'Warm', 'High', 'Strong', 'Cool', 'Change', 'Yes']\n",
      "The maximally specific hypothesis for a given training example is: \n",
      "[['Sunny', 'Warm', '?', 'Strong', '?', '?']]\n"
     ]
    }
   ],
   "source": [
    "for i in list1:\n",
    "    print(i)\n",
    "    if i[-1] == \"Yes\":\n",
    "        for j in range(len(i) - 1):\n",
    "            if i[j] != h[0][j] and h[0][j] == '0':\n",
    "                h[0][j] = i[j]\n",
    "            elif i[j] != h[0][j] and h[0][j] != '0':\n",
    "                h[0][j] = '?'\n",
    "            else:\n",
    "                pass\n",
    "\n",
    "print(\"The maximally specific hypothesis for a given training example is: \")\n",
    "print(h)"
   ]
  }
 ],
 "metadata": {
  "kernelspec": {
   "display_name": "Python 3 (ipykernel)",
   "language": "python",
   "name": "python3"
  },
  "language_info": {
   "codemirror_mode": {
    "name": "ipython",
    "version": 3
   },
   "file_extension": ".py",
   "mimetype": "text/x-python",
   "name": "python",
   "nbconvert_exporter": "python",
   "pygments_lexer": "ipython3",
   "version": "3.10.4"
  }
 },
 "nbformat": 4,
 "nbformat_minor": 2
}
