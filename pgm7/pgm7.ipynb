{
 "cells": [
  {
   "cell_type": "code",
   "execution_count": 28,
   "metadata": {},
   "outputs": [],
   "source": [
    "import pandas as pd\n",
    "from sklearn.model_selection import train_test_split\n",
    "from sklearn.naive_bayes import MultinomialNB\n",
    "from sklearn.feature_extraction.text import CountVectorizer\n",
    "from sklearn.metrics import accuracy_score, precision_score, recall_score, confusion_matrix"
   ]
  },
  {
   "cell_type": "code",
   "execution_count": 29,
   "metadata": {},
   "outputs": [
    {
     "name": "stdout",
     "output_type": "stream",
     "text": [
      "Total Instances of Dataset:  18\n"
     ]
    }
   ],
   "source": [
    "msg = pd.read_csv('document.csv', names = ['message', 'label'])\n",
    "print(\"Total Instances of Dataset: \", msg.shape[0])\n",
    "msg['labelnum'] = msg.label.map({'pos': 1, 'neg': 0})"
   ]
  },
  {
   "cell_type": "code",
   "execution_count": 35,
   "metadata": {},
   "outputs": [],
   "source": [
    "X = msg.message\n",
    "y = msg.labelnum\n",
    "X_train, X_test, y_train, y_test = train_test_split(X, y)\n",
    "count_v = CountVectorizer()\n",
    "X_train_dm = count_v.fit_transform(X_train)\n",
    "X_test_dm = count_v.transform(X_test)"
   ]
  },
  {
   "cell_type": "code",
   "execution_count": 36,
   "metadata": {},
   "outputs": [
    {
     "name": "stdout",
     "output_type": "stream",
     "text": [
      "   about  am  an  awesome  bad  beers  best  can  dance  deal  ...  today  \\\n",
      "0      0   0   0        0    0      0     0    0      0     0  ...      1   \n",
      "1      0   0   0        0    0      0     0    0      0     0  ...      0   \n",
      "2      1   0   0        0    0      1     0    0      0     0  ...      0   \n",
      "3      0   0   0        0    0      0     0    1      0     1  ...      0   \n",
      "4      0   0   0        0    0      0     0    0      0     0  ...      0   \n",
      "\n",
      "   tomorrow  very  view  we  went  what  will  with  work  \n",
      "0         0     0     0   0     1     0     0     0     0  \n",
      "1         0     0     0   0     0     0     0     0     0  \n",
      "2         0     1     0   0     0     0     0     0     0  \n",
      "3         0     0     0   0     0     0     0     1     0  \n",
      "4         0     0     0   0     0     0     0     0     0  \n",
      "\n",
      "[5 rows x 48 columns]\n"
     ]
    },
    {
     "name": "stderr",
     "output_type": "stream",
     "text": [
      "c:\\Python310\\lib\\site-packages\\sklearn\\utils\\deprecation.py:87: FutureWarning: Function get_feature_names is deprecated; get_feature_names is deprecated in 1.0 and will be removed in 1.2. Please use get_feature_names_out instead.\n",
      "  warnings.warn(msg, category=FutureWarning)\n"
     ]
    }
   ],
   "source": [
    "df = pd.DataFrame(X_train_dm.toarray(),columns=count_v.get_feature_names())\n",
    "print(df[0:5])"
   ]
  },
  {
   "cell_type": "code",
   "execution_count": 37,
   "metadata": {},
   "outputs": [],
   "source": [
    "clf = MultinomialNB()\n",
    "clf.fit(X_train_dm, y_train)\n",
    "pred = clf.predict(X_test_dm)"
   ]
  },
  {
   "cell_type": "code",
   "execution_count": 32,
   "metadata": {},
   "outputs": [
    {
     "name": "stdout",
     "output_type": "stream",
     "text": [
      "I love to dance -> pos\n",
      "This is an amazing place -> pos\n",
      "What an awesome view -> pos\n",
      "I am tired of this stuff -> neg\n",
      "That is a bad locality to stay -> neg\n"
     ]
    }
   ],
   "source": [
    "for doc, p in zip(X_train, pred):\n",
    "    p = 'pos' if p == 1 else 'neg'\n",
    "    print(\"%s -> %s\" % (doc, p))"
   ]
  },
  {
   "cell_type": "code",
   "execution_count": 34,
   "metadata": {},
   "outputs": [
    {
     "name": "stdout",
     "output_type": "stream",
     "text": [
      "Accuracy Metrics: \n",
      "\n",
      "Accuracy:  0.6\n",
      "Recall:  1.0\n",
      "Precision:  0.3333333333333333\n",
      "Confusion Matrix: \n",
      " [[2 2]\n",
      " [0 1]]\n"
     ]
    }
   ],
   "source": [
    "print('Accuracy Metrics: \\n')\n",
    "print('Accuracy: ', accuracy_score(y_test, pred))\n",
    "print('Recall: ', recall_score(y_test, pred))\n",
    "print('Precision: ', precision_score(y_test, pred))\n",
    "print('Confusion Matrix: \\n', confusion_matrix(y_test, pred))"
   ]
  }
 ],
 "metadata": {
  "kernelspec": {
   "display_name": "Python 3 (ipykernel)",
   "language": "python",
   "name": "python3"
  },
  "language_info": {
   "codemirror_mode": {
    "name": "ipython",
    "version": 3
   },
   "file_extension": ".py",
   "mimetype": "text/x-python",
   "name": "python",
   "nbconvert_exporter": "python",
   "pygments_lexer": "ipython3",
   "version": "3.10.4"
  }
 },
 "nbformat": 4,
 "nbformat_minor": 2
}
