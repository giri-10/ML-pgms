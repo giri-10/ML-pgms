{
 "cells": [
  {
   "cell_type": "code",
   "execution_count": 1,
   "metadata": {},
   "outputs": [],
   "source": [
    "from sklearn.datasets import load_iris\n",
    "from sklearn.model_selection import train_test_split\n",
    "from sklearn.neighbors import KNeighborsClassifier"
   ]
  },
  {
   "cell_type": "code",
   "execution_count": 2,
   "metadata": {},
   "outputs": [],
   "source": [
    "iris=load_iris()\n",
    "x,y=iris.data,iris.target\n",
    "xtrain,xtest,ytrain,ytest=train_test_split(x,y,test_size=0.33,random_state=42)\n",
    "model=KNeighborsClassifier(n_neighbors=1).fit(xtrain,ytrain)\n",
    "pred=model.predict(xtest)"
   ]
  },
  {
   "cell_type": "code",
   "execution_count": 3,
   "metadata": {},
   "outputs": [
    {
     "name": "stdout",
     "output_type": "stream",
     "text": [
      "0==setosa\n",
      "1==versicolor\n",
      "2==virginica\n",
      "s:[6.1 2.8 4.7 1.2] a:1 p:1\n",
      "s:[5.7 3.8 1.7 0.3] a:0 p:0\n",
      "s:[7.7 2.6 6.9 2.3] a:2 p:2\n",
      "s:[6.  2.9 4.5 1.5] a:1 p:1\n",
      "s:[6.8 2.8 4.8 1.4] a:1 p:1\n",
      "s:[5.4 3.4 1.5 0.4] a:0 p:0\n",
      "s:[5.6 2.9 3.6 1.3] a:1 p:1\n",
      "s:[6.9 3.1 5.1 2.3] a:2 p:2\n",
      "s:[6.2 2.2 4.5 1.5] a:1 p:1\n",
      "s:[5.8 2.7 3.9 1.2] a:1 p:1\n",
      "s:[6.5 3.2 5.1 2. ] a:2 p:2\n",
      "s:[4.8 3.  1.4 0.1] a:0 p:0\n",
      "s:[5.5 3.5 1.3 0.2] a:0 p:0\n",
      "s:[4.9 3.1 1.5 0.1] a:0 p:0\n",
      "s:[5.1 3.8 1.5 0.3] a:0 p:0\n",
      "s:[6.3 3.3 4.7 1.6] a:1 p:1\n",
      "s:[6.5 3.  5.8 2.2] a:2 p:2\n",
      "s:[5.6 2.5 3.9 1.1] a:1 p:1\n",
      "s:[5.7 2.8 4.5 1.3] a:1 p:1\n",
      "s:[6.4 2.8 5.6 2.2] a:2 p:2\n",
      "s:[4.7 3.2 1.6 0.2] a:0 p:0\n",
      "s:[6.1 3.  4.9 1.8] a:2 p:2\n",
      "s:[5.  3.4 1.6 0.4] a:0 p:0\n",
      "s:[6.4 2.8 5.6 2.1] a:2 p:2\n",
      "s:[7.9 3.8 6.4 2. ] a:2 p:2\n",
      "s:[6.7 3.  5.2 2.3] a:2 p:2\n",
      "s:[6.7 2.5 5.8 1.8] a:2 p:2\n",
      "s:[6.8 3.2 5.9 2.3] a:2 p:2\n",
      "s:[4.8 3.  1.4 0.3] a:0 p:0\n",
      "s:[4.8 3.1 1.6 0.2] a:0 p:0\n",
      "s:[4.6 3.6 1.  0.2] a:0 p:0\n",
      "s:[5.7 4.4 1.5 0.4] a:0 p:0\n",
      "s:[6.7 3.1 4.4 1.4] a:1 p:1\n",
      "s:[4.8 3.4 1.6 0.2] a:0 p:0\n",
      "s:[4.4 3.2 1.3 0.2] a:0 p:0\n",
      "s:[6.3 2.5 5.  1.9] a:2 p:2\n",
      "s:[6.4 3.2 4.5 1.5] a:1 p:1\n",
      "s:[5.2 3.5 1.5 0.2] a:0 p:0\n",
      "s:[5.  3.6 1.4 0.2] a:0 p:0\n",
      "s:[5.2 4.1 1.5 0.1] a:0 p:0\n",
      "s:[5.8 2.7 5.1 1.9] a:2 p:2\n",
      "s:[6.  3.4 4.5 1.6] a:1 p:1\n",
      "s:[6.7 3.1 4.7 1.5] a:1 p:1\n",
      "s:[5.4 3.9 1.3 0.4] a:0 p:0\n",
      "s:[5.4 3.7 1.5 0.2] a:0 p:0\n",
      "s:[5.5 2.4 3.7 1. ] a:1 p:1\n",
      "s:[6.3 2.8 5.1 1.5] a:2 p:1\n",
      "s:[6.4 3.1 5.5 1.8] a:2 p:2\n",
      "s:[6.6 3.  4.4 1.4] a:1 p:1\n",
      "s:[7.2 3.6 6.1 2.5] a:2 p:2\n",
      "acuracy98.0\n"
     ]
    }
   ],
   "source": [
    "for i,name in enumerate(iris.target_names):\n",
    " print(f\"{i}=={name}\")\n",
    "for s,a,p in zip(xtest,ytest,pred):\n",
    " print(f\"s:{s} a:{a} p:{p}\")\n",
    "print(f\"acuracy{model.score(xtest,ytest)*100}\")\n"
   ]
  }
 ],
 "metadata": {
  "kernelspec": {
   "display_name": "Python 3",
   "language": "python",
   "name": "python3"
  },
  "language_info": {
   "codemirror_mode": {
    "name": "ipython",
    "version": 3
   },
   "file_extension": ".py",
   "mimetype": "text/x-python",
   "name": "python",
   "nbconvert_exporter": "python",
   "pygments_lexer": "ipython3",
   "version": "3.10.4"
  }
 },
 "nbformat": 4,
 "nbformat_minor": 2
}
