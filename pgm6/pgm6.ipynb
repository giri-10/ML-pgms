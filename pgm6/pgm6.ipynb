{
 "cells": [
  {
   "cell_type": "code",
   "execution_count": 8,
   "metadata": {},
   "outputs": [],
   "source": [
    "import pandas as pd\n",
    "from sklearn.model_selection import train_test_split\n",
    "from sklearn.naive_bayes import GaussianNB\n",
    "from sklearn.metrics import accuracy_score"
   ]
  },
  {
   "cell_type": "code",
   "execution_count": 13,
   "metadata": {},
   "outputs": [
    {
     "name": "stdout",
     "output_type": "stream",
     "text": [
      "Pima indian diabetes dataset has been loaded...\n",
      "Total instances in dataset: 768\n",
      "Total attributes in dataset: 8\n",
      "First 5 instances of dataset:\n",
      "1: [  6.    148.     72.     35.      0.     33.6     0.627  50.      1.   ]\n",
      "2: [ 1.    85.    66.    29.     0.    26.6    0.351 31.     0.   ]\n",
      "3: [  8.    183.     64.      0.      0.     23.3     0.672  32.      1.   ]\n",
      "4: [ 1.    89.    66.    23.    94.    28.1    0.167 21.     0.   ]\n",
      "5: [  0.    137.     40.     35.    168.     43.1     2.288  33.      1.   ]\n",
      "\n",
      "Dataset is split into training and testing set.\n",
      "Training instances: 514\n",
      "Testing instances: 254\n",
      "\n",
      "Accuracy of the classifier is 72.83%\n"
     ]
    }
   ],
   "source": [
    "data = pd.read_csv('diabetes.csv')\n",
    "print(f'Pima indian diabetes dataset has been loaded...\\nTotal instances in dataset: {data.shape[0]}')\n",
    "print(f'Total attributes in dataset: {data.shape[1]-1}')\n",
    "print('First 5 instances of dataset:')\n",
    "for i in range(5):\n",
    "    print(f'{i + 1}: {data.iloc[i].values}')\n",
    "\n",
    "X_train, X_test, y_train, y_test = train_test_split(data.iloc[:, :-1], data.iloc[:, -1], test_size=0.33, random_state=50)\n",
    "print('\\nDataset is split into training and testing set.')\n",
    "print(f'Training instances: {len(X_train)}')\n",
    "print(f'Testing instances: {len(X_test)}')\n",
    "\n",
    "classifier = GaussianNB().fit(X_train, y_train)\n",
    "accuracy = accuracy_score(y_test, classifier.predict(X_test))*100\n",
    "print(f'\\nAccuracy of the classifier is {accuracy:.2f}%')"
   ]
  }
 ],
 "metadata": {
  "kernelspec": {
   "display_name": "Python 3 (ipykernel)",
   "language": "python",
   "name": "python3"
  },
  "language_info": {
   "codemirror_mode": {
    "name": "ipython",
    "version": 3
   },
   "file_extension": ".py",
   "mimetype": "text/x-python",
   "name": "python",
   "nbconvert_exporter": "python",
   "pygments_lexer": "ipython3",
   "version": "3.10.4"
  }
 },
 "nbformat": 4,
 "nbformat_minor": 2
}
